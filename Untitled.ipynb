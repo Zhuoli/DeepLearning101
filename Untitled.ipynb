{
 "cells": [
  {
   "cell_type": "code",
   "execution_count": 3,
   "metadata": {
    "collapsed": false
   },
   "outputs": [
    {
     "name": "stdout",
     "output_type": "stream",
     "text": [
      "Loaded TF version 0.12.0-rc1\n"
     ]
    }
   ],
   "source": [
    "import tensorflow as tf\n",
    "\n",
    "print('Loaded TF version', tf.__version__) "
   ]
  },
  {
   "cell_type": "code",
   "execution_count": 11,
   "metadata": {
    "collapsed": false
   },
   "outputs": [
    {
     "name": "stdout",
     "output_type": "stream",
     "text": [
      "Tensor(\"add_6:0\", shape=(), dtype=int32)\n",
      "Variable v1 is <class 'tensorflow.python.ops.variables.Variable'>\n",
      "Sum addv is <class 'tensorflow.python.framework.ops.Tensor'>\n"
     ]
    }
   ],
   "source": [
    "v1 = tf.Variable(1)\n",
    "v2 = tf.Variable(5)\n",
    "\n",
    "addv = v1 + v2\n",
    "print(addv)\n",
    "print('Variable v1 is ' + str(type(v1)))\n",
    "print('Sum addv is ' + str(type(addv)))"
   ]
  },
  {
   "cell_type": "code",
   "execution_count": 13,
   "metadata": {
    "collapsed": false
   },
   "outputs": [
    {
     "name": "stdout",
     "output_type": "stream",
     "text": [
      "Tensor(\"add_7:0\", shape=(), dtype=int32)\n",
      "Constant c1 is <class 'tensorflow.python.framework.ops.Tensor'>\n",
      "Sum addc is <class 'tensorflow.python.framework.ops.Tensor'>\n"
     ]
    }
   ],
   "source": [
    "c1 = tf.constant(10)\n",
    "c2 = tf.constant(10)\n",
    "addc = c1 + c2\n",
    "print(addc)\n",
    "print('Constant c1 is ' + str(type(c1)))\n",
    "print('Sum addc is ' + str(type(addc)))"
   ]
  },
  {
   "cell_type": "code",
   "execution_count": 16,
   "metadata": {
    "collapsed": false
   },
   "outputs": [
    {
     "name": "stdout",
     "output_type": "stream",
     "text": [
      "变量是需要初始化的\n",
      "加法(v1, v2) =  6\n",
      "加法(v1, v2) =  6\n",
      "加法(c1, c2) =  20\n"
     ]
    }
   ],
   "source": [
    "sess = tf.Session()\n",
    "tf.global_variables_initializer().run(session=sess)\n",
    "print('变量是需要初始化的')\n",
    "print('加法(v1, v2) = ', addv.eval(session=sess))\n",
    "print('加法(v1, v2) = ', sess.run(addv))\n",
    "print('加法(c1, c2) = ', addc.eval(session=sess))"
   ]
  },
  {
   "cell_type": "code",
   "execution_count": 17,
   "metadata": {
    "collapsed": true
   },
   "outputs": [],
   "source": [
    "# tf.Graph.__init__()\n",
    "# Creates a new, empty Graph.\n",
    "graph = tf.Graph()\n",
    "with graph.as_default():\n",
    "    value1 = tf.constant([1, 2])\n",
    "    value2 = tf.Variable([3, 4])\n",
    "    mul = value1 / value2"
   ]
  },
  {
   "cell_type": "code",
   "execution_count": 19,
   "metadata": {
    "collapsed": false
   },
   "outputs": [
    {
     "name": "stdout",
     "output_type": "stream",
     "text": [
      "一一对应的除法(value1, value2) =  [ 0.33333333  0.5       ]\n",
      "一一对应的除法(value1, value2) =  [ 0.33333333  0.5       ]\n",
      "一一Value1 =  [1 2]\n",
      "一一Value2 =  [3 4]\n"
     ]
    }
   ],
   "source": [
    "with tf.Session(graph=graph) as mySess:\n",
    "    tf.global_variables_initializer().run()\n",
    "    print('一一对应的除法(value1, value2) = ', mySess.run(mul))\n",
    "    print('一一对应的除法(value1, value2) = ', mul.eval())\n",
    "    print('一一Value1 = ', value1.eval())\n",
    "    print('一一Value2 = ', value2.eval())"
   ]
  },
  {
   "cell_type": "code",
   "execution_count": null,
   "metadata": {
    "collapsed": true
   },
   "outputs": [],
   "source": []
  }
 ],
 "metadata": {
  "kernelspec": {
   "display_name": "Python 3",
   "language": "python",
   "name": "python3"
  },
  "language_info": {
   "codemirror_mode": {
    "name": "ipython",
    "version": 3
   },
   "file_extension": ".py",
   "mimetype": "text/x-python",
   "name": "python",
   "nbconvert_exporter": "python",
   "pygments_lexer": "ipython3",
   "version": "3.5.2"
  }
 },
 "nbformat": 4,
 "nbformat_minor": 2
}
